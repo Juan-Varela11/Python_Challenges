{
 "cells": [
  {
   "cell_type": "markdown",
   "id": "c583585a-5009-4dba-9f5b-ea621aa699be",
   "metadata": {},
   "source": [
    "# The Problem"
   ]
  },
  {
   "cell_type": "markdown",
   "id": "7c185e3f-ad50-4724-8db2-7084e390c4d3",
   "metadata": {},
   "source": [
    "Create a function that takes a dictionary of objects like {\"name\": \"John\", \"notes\": [3,5,4] } and returns a dictionary of objects like { \"name\": \"John\", \"top_note\": 5}."
   ]
  },
  {
   "cell_type": "markdown",
   "id": "f3f72cca-b988-4b89-956d-207519cb1cc4",
   "metadata": {},
   "source": [
    "# The Solution"
   ]
  },
  {
   "cell_type": "code",
   "execution_count": 1,
   "id": "94e9804a-1228-45ec-8796-8effb70b8b1d",
   "metadata": {},
   "outputs": [
    {
     "data": {
      "text/plain": [
       "{'name': 'Emma', 'top_note': 23}"
      ]
     },
     "execution_count": 1,
     "metadata": {},
     "output_type": "execute_result"
    }
   ],
   "source": [
    "# Input\n",
    "student = {\n",
    "    \"name\":\"Emma\",\n",
    "    \"notes\":[3,5,4,11,1,2,23,3,12]    \n",
    "}\n",
    "\n",
    "# Function\n",
    "def GetTopNote(dict):\n",
    "    top_note = max(dict[\"notes\"])\n",
    "    return {\"name\":dict[\"name\"],\"top_note\":top_note}\n",
    "\n",
    "# Output\n",
    "GetTopNote(student)"
   ]
  }
 ],
 "metadata": {
  "kernelspec": {
   "display_name": "Python 3 (ipykernel)",
   "language": "python",
   "name": "python3"
  },
  "language_info": {
   "codemirror_mode": {
    "name": "ipython",
    "version": 3
   },
   "file_extension": ".py",
   "mimetype": "text/x-python",
   "name": "python",
   "nbconvert_exporter": "python",
   "pygments_lexer": "ipython3",
   "version": "3.11.5"
  }
 },
 "nbformat": 4,
 "nbformat_minor": 5
}
