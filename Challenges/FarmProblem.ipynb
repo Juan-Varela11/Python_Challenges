{
 "cells": [
  {
   "cell_type": "markdown",
   "id": "8dd7b681-4498-4998-ba14-8fce94f28865",
   "metadata": {},
   "source": [
    "# The Problem"
   ]
  },
  {
   "cell_type": "markdown",
   "id": "40b3c3f4-10af-4309-a3e9-959762337503",
   "metadata": {},
   "source": [
    "In this challenge, a farmer is asking you to tell him how many legs can be counted among all his animals. The farmer breeds three species:\n",
    "\n",
    "Chicken which has 2 legs. Cows, which have 4 legs. Lastly pigs, which also have 4 legs. \n",
    "\n",
    "The farmer has counted his animals and he gives you a subtotal for each species. You have to implement a function thta returns the total number of legs of all the animals."
   ]
  },
  {
   "cell_type": "markdown",
   "id": "d982a3ad-deaf-47bc-a3ac-57da9c500621",
   "metadata": {},
   "source": [
    "# The Solution"
   ]
  },
  {
   "cell_type": "code",
   "execution_count": 1,
   "id": "11ac7175-fe53-4faa-9e8b-4dd67716e241",
   "metadata": {},
   "outputs": [
    {
     "data": {
      "text/plain": [
       "50"
      ]
     },
     "execution_count": 1,
     "metadata": {},
     "output_type": "execute_result"
    }
   ],
   "source": [
    "# Function\n",
    "def animals(chickens, cows, pigs):\n",
    "    chicken_legs = chickens * 2\n",
    "    pig_legs = pigs * 4\n",
    "    cow_legs = cows * 4\n",
    "    return pig_legs + cow_legs + chicken_legs\n",
    "\n",
    "# Output\n",
    "animals(5,2,8)"
   ]
  }
 ],
 "metadata": {
  "kernelspec": {
   "display_name": "Python 3 (ipykernel)",
   "language": "python",
   "name": "python3"
  },
  "language_info": {
   "codemirror_mode": {
    "name": "ipython",
    "version": 3
   },
   "file_extension": ".py",
   "mimetype": "text/x-python",
   "name": "python",
   "nbconvert_exporter": "python",
   "pygments_lexer": "ipython3",
   "version": "3.11.5"
  }
 },
 "nbformat": 4,
 "nbformat_minor": 5
}
